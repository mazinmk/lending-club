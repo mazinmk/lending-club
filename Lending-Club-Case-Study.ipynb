{
 "cells": [
  {
   "cell_type": "markdown",
   "id": "87d62835",
   "metadata": {},
   "source": [
    "# Lending Club Case Study \n",
    "## Introduction \n",
    "Solving this assignment will give you an idea about how real business problems are solved using EDA. In this case study, apart from applying the techniques you have learnt in EDA, you will also develop a basic understanding of risk analytics in banking and financial services and understand how data is used to minimise the risk of losing money while lending to customers.\n",
    "\n",
    "## Business Understanding\n",
    "\n",
    "You work for a consumer finance company which specialises in lending various types of loans to urban customers. When the company receives a loan application, the company has to make a decision for loan approval based on the applicant’s profile. Two types of risks are associated with the bank’s decision:\n",
    "\n",
    "- If the applicant is likely to repay the loan, then not approving the loan results in a loss of business to the company\n",
    "- If the applicant is not likely to repay the loan, i.e. he/she is likely to default, then approving the loan may lead to a financial loss for the company\n",
    "\n",
    " \n",
    "\n",
    "The data given below contains the information about past loan applicants and whether they ‘defaulted’ or not. The aim is to identify patterns which indicate if a person is likely to default, which may be used for taking actions such as denying the loan, reducing the amount of loan, lending (to risky applicants) at a higher interest rate, etc.\n",
    "\n",
    " \n",
    "\n",
    "In this case study, you will use EDA to understand how <b>consumer attributes</b> and <b>loan attributes</b> influence the tendency of default.\n",
    "\n",
    "\n",
    "<p>\n",
    "<img src =\"https://cdn.upgrad.com/UpGrad/temp/7afbce98-8ecc-41c6-96d8-981cba7d343f/Loan_image.png\" alt='Figure 1'>\n",
    "<center> <b>Figure 1. Loan Data Set</b> </center> \n",
    " </br>  \n",
    "</p>\n",
    "\n",
    "When a person applies for a loan, there are <b>two types of decisions</b> that could be taken by the company:\n",
    "\n",
    "\n",
    "1. <b>Loan accepted:</b> If the company approves the loan, there are 3 possible scenarios described below:\n",
    "\n",
    "    - <b>Fully paid:</b> Applicant has fully paid the loan (the principal and the interest rate)\n",
    "    - <b>Current:</b> Applicant is in the process of paying the instalments, i.e. the tenure of the loan is not yet completed. These candidates are not labelled as 'defaulted'.\n",
    "    -  <b>Charged-off:</b> Applicant has not paid the instalments in due time for a long period of time, i.e. he/she has defaulted on the loan \n",
    "<p></p>\n",
    "2. <b>Loan rejected:</b>The company had rejected the loan (because the candidate does not meet their requirements etc.). Since the loan was rejected, there is no transactional history of those applicants with the company and so this data is not available with the company (and thus in this dataset)\n",
    "\n",
    "\n",
    "## Business Objectives \n",
    "\n",
    "The company wants to understand the driving factors (or driver variables) behind loan default, i.e. the variables which are strong indicators of default.  The company can utilise this knowledge for its portfolio and risk assessment.\n",
    "\n",
    "__`The objective is to study the variables which shall be available at the time of the application to identify the defaulters and reject their applications`__"
   ]
  },
  {
   "cell_type": "markdown",
   "id": "a4c54abf",
   "metadata": {},
   "source": [
    "# Data understanding\n",
    "\n",
    "- The provided data is from 2007 till 2011 for the loan applicant who either fully paid the loan or defaulted or were current at that time.\n"
   ]
  },
  {
   "cell_type": "code",
   "execution_count": 58,
   "id": "cb45154f",
   "metadata": {},
   "outputs": [],
   "source": [
    "# Import all the libraries required for the analysis\n",
    "import pandas as pd\n",
    "import numpy as np\n",
    "import seaborn as sns\n",
    "\n",
    "# Ignore warnings which can occur due to  version problems\n",
    "import warnings\n",
    "warnings.filterwarnings(\"ignore\")\n",
    "\n",
    "import matplotlib.pyplot as plt\n",
    "%matplotlib inline \n",
    "\n",
    "# Import the library to check the encoding\n",
    "import chardet\n",
    "\n",
    "# To Convert scientific values into readable format \n",
    "pd.options.display.float_format = '{:,.2f}'.format\n"
   ]
  },
  {
   "cell_type": "code",
   "execution_count": 59,
   "id": "3d5ecefc",
   "metadata": {},
   "outputs": [
    {
     "data": {
      "text/plain": [
       "{'encoding': 'ascii', 'confidence': 1.0, 'language': ''}"
      ]
     },
     "execution_count": 59,
     "metadata": {},
     "output_type": "execute_result"
    }
   ],
   "source": [
    "# Checking the encoding of the loan.csv file\n",
    "with open(\"loan.csv\", \"rb\") as rawdata:\n",
    "    loan_result = chardet.detect(rawdata.read(2000))\n",
    "\n",
    "loan_result"
   ]
  },
  {
   "cell_type": "code",
   "execution_count": 60,
   "id": "fa1d36fc",
   "metadata": {},
   "outputs": [
    {
     "name": "stdout",
     "output_type": "stream",
     "text": [
      "(39717, 111)\n"
     ]
    }
   ],
   "source": [
    "# Load the Loan data set\n",
    "loans_df = pd.read_csv(\"loan.csv\")\n",
    "\n",
    "# Check the shape of the data to understand the number of rows and columns available\n",
    "print(loans_df.shape)"
   ]
  },
  {
   "cell_type": "code",
   "execution_count": 61,
   "id": "56606da8",
   "metadata": {},
   "outputs": [
    {
     "name": "stdout",
     "output_type": "stream",
     "text": [
      "<class 'pandas.core.frame.DataFrame'>\n",
      "RangeIndex: 39717 entries, 0 to 39716\n",
      "Data columns (total 111 columns):\n",
      " #    Column                          Non-Null Count  Dtype  \n",
      "---   ------                          --------------  -----  \n",
      " 0    id                              39717 non-null  int64  \n",
      " 1    member_id                       39717 non-null  int64  \n",
      " 2    loan_amnt                       39717 non-null  int64  \n",
      " 3    funded_amnt                     39717 non-null  int64  \n",
      " 4    funded_amnt_inv                 39717 non-null  float64\n",
      " 5    term                            39717 non-null  object \n",
      " 6    int_rate                        39717 non-null  object \n",
      " 7    installment                     39717 non-null  float64\n",
      " 8    grade                           39717 non-null  object \n",
      " 9    sub_grade                       39717 non-null  object \n",
      " 10   emp_title                       37258 non-null  object \n",
      " 11   emp_length                      38642 non-null  object \n",
      " 12   home_ownership                  39717 non-null  object \n",
      " 13   annual_inc                      39717 non-null  float64\n",
      " 14   verification_status             39717 non-null  object \n",
      " 15   issue_d                         39717 non-null  object \n",
      " 16   loan_status                     39717 non-null  object \n",
      " 17   pymnt_plan                      39717 non-null  object \n",
      " 18   url                             39717 non-null  object \n",
      " 19   desc                            26777 non-null  object \n",
      " 20   purpose                         39717 non-null  object \n",
      " 21   title                           39706 non-null  object \n",
      " 22   zip_code                        39717 non-null  object \n",
      " 23   addr_state                      39717 non-null  object \n",
      " 24   dti                             39717 non-null  float64\n",
      " 25   delinq_2yrs                     39717 non-null  int64  \n",
      " 26   earliest_cr_line                39717 non-null  object \n",
      " 27   inq_last_6mths                  39717 non-null  int64  \n",
      " 28   mths_since_last_delinq          14035 non-null  float64\n",
      " 29   mths_since_last_record          2786 non-null   float64\n",
      " 30   open_acc                        39717 non-null  int64  \n",
      " 31   pub_rec                         39717 non-null  int64  \n",
      " 32   revol_bal                       39717 non-null  int64  \n",
      " 33   revol_util                      39667 non-null  object \n",
      " 34   total_acc                       39717 non-null  int64  \n",
      " 35   initial_list_status             39717 non-null  object \n",
      " 36   out_prncp                       39717 non-null  float64\n",
      " 37   out_prncp_inv                   39717 non-null  float64\n",
      " 38   total_pymnt                     39717 non-null  float64\n",
      " 39   total_pymnt_inv                 39717 non-null  float64\n",
      " 40   total_rec_prncp                 39717 non-null  float64\n",
      " 41   total_rec_int                   39717 non-null  float64\n",
      " 42   total_rec_late_fee              39717 non-null  float64\n",
      " 43   recoveries                      39717 non-null  float64\n",
      " 44   collection_recovery_fee         39717 non-null  float64\n",
      " 45   last_pymnt_d                    39646 non-null  object \n",
      " 46   last_pymnt_amnt                 39717 non-null  float64\n",
      " 47   next_pymnt_d                    1140 non-null   object \n",
      " 48   last_credit_pull_d              39715 non-null  object \n",
      " 49   collections_12_mths_ex_med      39661 non-null  float64\n",
      " 50   mths_since_last_major_derog     0 non-null      float64\n",
      " 51   policy_code                     39717 non-null  int64  \n",
      " 52   application_type                39717 non-null  object \n",
      " 53   annual_inc_joint                0 non-null      float64\n",
      " 54   dti_joint                       0 non-null      float64\n",
      " 55   verification_status_joint       0 non-null      float64\n",
      " 56   acc_now_delinq                  39717 non-null  int64  \n",
      " 57   tot_coll_amt                    0 non-null      float64\n",
      " 58   tot_cur_bal                     0 non-null      float64\n",
      " 59   open_acc_6m                     0 non-null      float64\n",
      " 60   open_il_6m                      0 non-null      float64\n",
      " 61   open_il_12m                     0 non-null      float64\n",
      " 62   open_il_24m                     0 non-null      float64\n",
      " 63   mths_since_rcnt_il              0 non-null      float64\n",
      " 64   total_bal_il                    0 non-null      float64\n",
      " 65   il_util                         0 non-null      float64\n",
      " 66   open_rv_12m                     0 non-null      float64\n",
      " 67   open_rv_24m                     0 non-null      float64\n",
      " 68   max_bal_bc                      0 non-null      float64\n",
      " 69   all_util                        0 non-null      float64\n",
      " 70   total_rev_hi_lim                0 non-null      float64\n",
      " 71   inq_fi                          0 non-null      float64\n",
      " 72   total_cu_tl                     0 non-null      float64\n",
      " 73   inq_last_12m                    0 non-null      float64\n",
      " 74   acc_open_past_24mths            0 non-null      float64\n",
      " 75   avg_cur_bal                     0 non-null      float64\n",
      " 76   bc_open_to_buy                  0 non-null      float64\n",
      " 77   bc_util                         0 non-null      float64\n",
      " 78   chargeoff_within_12_mths        39661 non-null  float64\n",
      " 79   delinq_amnt                     39717 non-null  int64  \n",
      " 80   mo_sin_old_il_acct              0 non-null      float64\n",
      " 81   mo_sin_old_rev_tl_op            0 non-null      float64\n",
      " 82   mo_sin_rcnt_rev_tl_op           0 non-null      float64\n",
      " 83   mo_sin_rcnt_tl                  0 non-null      float64\n",
      " 84   mort_acc                        0 non-null      float64\n",
      " 85   mths_since_recent_bc            0 non-null      float64\n",
      " 86   mths_since_recent_bc_dlq        0 non-null      float64\n",
      " 87   mths_since_recent_inq           0 non-null      float64\n",
      " 88   mths_since_recent_revol_delinq  0 non-null      float64\n",
      " 89   num_accts_ever_120_pd           0 non-null      float64\n",
      " 90   num_actv_bc_tl                  0 non-null      float64\n",
      " 91   num_actv_rev_tl                 0 non-null      float64\n",
      " 92   num_bc_sats                     0 non-null      float64\n",
      " 93   num_bc_tl                       0 non-null      float64\n",
      " 94   num_il_tl                       0 non-null      float64\n",
      " 95   num_op_rev_tl                   0 non-null      float64\n",
      " 96   num_rev_accts                   0 non-null      float64\n",
      " 97   num_rev_tl_bal_gt_0             0 non-null      float64\n",
      " 98   num_sats                        0 non-null      float64\n",
      " 99   num_tl_120dpd_2m                0 non-null      float64\n",
      " 100  num_tl_30dpd                    0 non-null      float64\n",
      " 101  num_tl_90g_dpd_24m              0 non-null      float64\n",
      " 102  num_tl_op_past_12m              0 non-null      float64\n",
      " 103  pct_tl_nvr_dlq                  0 non-null      float64\n",
      " 104  percent_bc_gt_75                0 non-null      float64\n",
      " 105  pub_rec_bankruptcies            39020 non-null  float64\n",
      " 106  tax_liens                       39678 non-null  float64\n",
      " 107  tot_hi_cred_lim                 0 non-null      float64\n",
      " 108  total_bal_ex_mort               0 non-null      float64\n",
      " 109  total_bc_limit                  0 non-null      float64\n",
      " 110  total_il_high_credit_limit      0 non-null      float64\n",
      "dtypes: float64(74), int64(13), object(24)\n",
      "memory usage: 33.6+ MB\n"
     ]
    }
   ],
   "source": [
    "#Check the details of the data like columns names, total number of non-null values \n",
    "#and Data types of each of the columns\n",
    "\n",
    "loans_df.info(verbose=True, null_counts=True)"
   ]
  },
  {
   "cell_type": "code",
   "execution_count": 62,
   "id": "2b5123e5",
   "metadata": {},
   "outputs": [
    {
     "data": {
      "text/plain": [
       "id                              int64\n",
       "member_id                       int64\n",
       "loan_amnt                       int64\n",
       "funded_amnt                     int64\n",
       "funded_amnt_inv               float64\n",
       "                               ...   \n",
       "tax_liens                     float64\n",
       "tot_hi_cred_lim               float64\n",
       "total_bal_ex_mort             float64\n",
       "total_bc_limit                float64\n",
       "total_il_high_credit_limit    float64\n",
       "Length: 111, dtype: object"
      ]
     },
     "execution_count": 62,
     "metadata": {},
     "output_type": "execute_result"
    }
   ],
   "source": [
    "# Check the data types of all the attributes in the data frame\n",
    "loans_df.dtypes"
   ]
  },
  {
   "cell_type": "markdown",
   "id": "9d01dfbd",
   "metadata": {},
   "source": [
    "## Data cleaning\n",
    "### Investigate  columns, rows for null values\n",
    "- Calculate the percentage of the missing column\n",
    "- Check the null values in the column\n",
    "- Check the null values in the row\n",
    "- Remove the null columns where <b> > 90%</b> data is missing using dropna method\n",
    "- Remove columns where unique values are available as those are not going to help with our analysis\n",
    "- Remove columns where <b> same values </b> are present for all the rows.\n",
    "- Remove Customer behavior variables as those are post loan variables\n",
    "- Separate month and year for loan issue date columns.\n",
    "- Transform the malformed data to normalize the data types.\n",
    "- Convert the years object type to float wherever needed\n",
    "- Drop the rows where the loan status is current as this data will not help in achieving business objective\n",
    "- Change the loan status to 1 or 0 for Charged off and fully paid"
   ]
  },
  {
   "cell_type": "code",
   "execution_count": 63,
   "id": "7033fabc",
   "metadata": {},
   "outputs": [
    {
     "data": {
      "text/plain": [
       "verification_status_joint   100.00\n",
       "annual_inc_joint            100.00\n",
       "mo_sin_old_rev_tl_op        100.00\n",
       "mo_sin_old_il_acct          100.00\n",
       "bc_util                     100.00\n",
       "                             ...  \n",
       "delinq_amnt                   0.00\n",
       "policy_code                   0.00\n",
       "earliest_cr_line              0.00\n",
       "delinq_2yrs                   0.00\n",
       "id                            0.00\n",
       "Length: 111, dtype: float64"
      ]
     },
     "execution_count": 63,
     "metadata": {},
     "output_type": "execute_result"
    }
   ],
   "source": [
    "#Calculating the percentage of the null columns\n",
    "(((loans_df.isna().sum()/loans_df.shape[0])*100).sort_values(ascending=False))"
   ]
  },
  {
   "cell_type": "code",
   "execution_count": 64,
   "id": "4c3308f3",
   "metadata": {
    "scrolled": true
   },
   "outputs": [
    {
     "data": {
      "text/plain": [
       "100.00    54\n",
       "0.00      43\n",
       "0.14       2\n",
       "32.58      1\n",
       "6.19       1\n",
       "1.75       1\n",
       "0.13       1\n",
       "0.01       1\n",
       "92.99      1\n",
       "0.18       1\n",
       "0.10       1\n",
       "64.66      1\n",
       "97.13      1\n",
       "0.03       1\n",
       "2.71       1\n",
       "dtype: int64"
      ]
     },
     "execution_count": 64,
     "metadata": {},
     "output_type": "execute_result"
    }
   ],
   "source": [
    "# Since the list has 111 elements lets get it ordered by count and sort it ascentding to get the count.\n",
    "\n",
    "((loans_df.isna().sum(axis=0)/loans_df.shape[0])*100).value_counts().sort_values(ascending=False)"
   ]
  },
  {
   "cell_type": "markdown",
   "id": "0a41a591",
   "metadata": {},
   "source": [
    "#### Observation\n",
    "1. 54 colums are 100% - Drop this\n",
    "2. 2 columns > 90 % - Drop this"
   ]
  },
  {
   "cell_type": "code",
   "execution_count": 65,
   "id": "da19944c",
   "metadata": {},
   "outputs": [
    {
     "data": {
      "text/plain": [
       "(39717, 55)"
      ]
     },
     "execution_count": 65,
     "metadata": {},
     "output_type": "execute_result"
    }
   ],
   "source": [
    "#Remove the columns for which are > 90% rows data is not available\n",
    "#Set the threshold percent is 0.1% of length of data frame \n",
    "\n",
    "threshold_percent = 0.1*len(loans_df)\n",
    "loans_df = loans_df.dropna(axis = 1, thresh=threshold_percent)\n",
    "loans_df.shape"
   ]
  },
  {
   "cell_type": "code",
   "execution_count": 66,
   "id": "cfaeb0de",
   "metadata": {},
   "outputs": [
    {
     "data": {
      "text/plain": [
       "0       0.01\n",
       "1       0.00\n",
       "2       0.01\n",
       "3       0.00\n",
       "4       0.00\n",
       "        ... \n",
       "39712   0.01\n",
       "39713   0.01\n",
       "39714   0.02\n",
       "39715   0.02\n",
       "39716   0.01\n",
       "Length: 39717, dtype: float64"
      ]
     },
     "execution_count": 66,
     "metadata": {},
     "output_type": "execute_result"
    }
   ],
   "source": [
    "# Calculate the percentage of the missing row\n",
    "\n",
    "((loans_df.isna().sum(axis=1)/loans_df.shape[0])*100).round(2)"
   ]
  },
  {
   "cell_type": "code",
   "execution_count": 67,
   "id": "2446a275",
   "metadata": {},
   "outputs": [
    {
     "data": {
      "text/plain": [
       "0.00    21394\n",
       "0.01     8868\n",
       "0.00     8238\n",
       "0.01      881\n",
       "0.01      319\n",
       "0.01       13\n",
       "0.02        4\n",
       "dtype: int64"
      ]
     },
     "execution_count": 67,
     "metadata": {},
     "output_type": "execute_result"
    }
   ],
   "source": [
    "# Since the list has 39717 elements lets get it ordered by count and sort it ascentding to get the count.\n",
    "((loans_df.isna().sum(axis=1)/loans_df.shape[0])*100).value_counts().sort_values(ascending=False)"
   ]
  },
  {
   "cell_type": "markdown",
   "id": "a8fc1552",
   "metadata": {},
   "source": [
    "#### Observation\n",
    "None of the row has significant percentage to drop any."
   ]
  },
  {
   "cell_type": "markdown",
   "id": "084862b1",
   "metadata": {},
   "source": [
    "### Remove the customer behavior columns\n",
    "\n",
    "`The customer behavior columns are not helpful in this analysis as those will be created/available after the loan is processed.`"
   ]
  },
  {
   "cell_type": "code",
   "execution_count": 68,
   "id": "58eb4fdb",
   "metadata": {},
   "outputs": [
    {
     "data": {
      "text/plain": [
       "(39717, 29)"
      ]
     },
     "execution_count": 68,
     "metadata": {},
     "output_type": "execute_result"
    }
   ],
   "source": [
    "#Drop the customer behavior variables which are not available at the time of loan application, \n",
    "#and thus they cannot be used as predictors for credit approval.\n",
    "cust_behaviour_variables = ['delinq_2yrs',\n",
    "                            'earliest_cr_line',\n",
    "                            'inq_last_6mths',\n",
    "                            'open_acc',\n",
    "                            'pub_rec',\n",
    "                            'revol_bal',\n",
    "                            'revol_util',\n",
    "                            'total_acc',\n",
    "                            'out_prncp',\n",
    "                            'out_prncp_inv',\n",
    "                            'total_pymnt',\n",
    "                            'total_pymnt_inv',\n",
    "                            'total_rec_prncp',\n",
    "                            'total_rec_int',\n",
    "                            'total_rec_late_fee',\n",
    "                            'recoveries',\n",
    "                            'collection_recovery_fee',\n",
    "                            'last_pymnt_d',\n",
    "                            'last_pymnt_amnt',\n",
    "                            'last_credit_pull_d',\n",
    "                            'application_type',\n",
    "                            'funded_amnt',\n",
    "                            'delinq_amnt',\n",
    "                            'mths_since_last_delinq',\n",
    "                            'collections_12_mths_ex_med',\n",
    "                            'funded_amnt_inv']\n",
    "\n",
    "\n",
    "loans_df = loans_df.drop(columns=cust_behaviour_variables)\n",
    "loans_df.shape"
   ]
  },
  {
   "cell_type": "markdown",
   "id": "dceecfd7",
   "metadata": {},
   "source": [
    "### Remove the unique value columns and single value fields\n",
    "\n",
    "`These columns will not help to conclude the target`"
   ]
  },
  {
   "cell_type": "code",
   "execution_count": 69,
   "id": "e8e2a990",
   "metadata": {},
   "outputs": [
    {
     "data": {
      "text/plain": [
       "id                         100.00\n",
       "url                        100.00\n",
       "member_id                  100.00\n",
       "emp_title                   72.56\n",
       "desc                        66.79\n",
       "title                       49.39\n",
       "installment                 38.73\n",
       "annual_inc                  13.39\n",
       "dti                          7.22\n",
       "loan_amnt                    2.23\n",
       "zip_code                     2.07\n",
       "int_rate                     0.93\n",
       "issue_d                      0.14\n",
       "addr_state                   0.13\n",
       "sub_grade                    0.09\n",
       "purpose                      0.04\n",
       "emp_length                   0.03\n",
       "grade                        0.02\n",
       "home_ownership               0.01\n",
       "pub_rec_bankruptcies         0.01\n",
       "loan_status                  0.01\n",
       "verification_status          0.01\n",
       "term                         0.01\n",
       "pymnt_plan                   0.00\n",
       "initial_list_status          0.00\n",
       "policy_code                  0.00\n",
       "acc_now_delinq               0.00\n",
       "chargeoff_within_12_mths     0.00\n",
       "tax_liens                    0.00\n",
       "dtype: float64"
      ]
     },
     "execution_count": 69,
     "metadata": {},
     "output_type": "execute_result"
    }
   ],
   "source": [
    "((loans_df.nunique()/loans_df.shape[0])*100).sort_values(ascending=False)"
   ]
  },
  {
   "cell_type": "markdown",
   "id": "6e9c5f12",
   "metadata": {},
   "source": [
    "#### Observation\n",
    "1. Since <b> id, member_id url </b> has 100% unique value which will not be helpful in the analysis thus we can <b> drop </b> it.\n",
    "2. <b> emp_title, desc </b> has higher percentage we will verify and decide to drop it or not."
   ]
  },
  {
   "cell_type": "code",
   "execution_count": 70,
   "id": "c541d642",
   "metadata": {},
   "outputs": [
    {
     "data": {
      "text/plain": [
       "(39717, 26)"
      ]
     },
     "execution_count": 70,
     "metadata": {},
     "output_type": "execute_result"
    }
   ],
   "source": [
    "loans_df  = loans_df.drop(columns=['id', 'member_id', 'url'])\n",
    "loans_df.shape"
   ]
  },
  {
   "cell_type": "code",
   "execution_count": 71,
   "id": "c8b943f8",
   "metadata": {
    "scrolled": true
   },
   "outputs": [
    {
     "data": {
      "text/plain": [
       "0                                                                                                                                                                                                                                                                                                                                                                                                                                                                                                                                      Borrower added on 12/22/11 > I need to upgrade my business technologies.<br>\n",
       "1      Borrower added on 12/22/11 > I plan to use this money to finance the motorcycle i am looking at. I plan to have it paid off as soon as possible/when i sell my old bike. I only need this money because the deal im looking at is to good to pass up.<br><br>  Borrower added on 12/22/11 > I plan to use this money to finance the motorcycle i am looking at. I plan to have it paid off as soon as possible/when i sell my old bike.I only need this money because the deal im looking at is to good to pass up. I have finished college with an associates degree in business and its takingmeplaces<br>\n",
       "2                                                                                                                                                                                                                                                                                                                                                                                                                                                                                                                                                                                                               NaN\n",
       "3                                                                                                                                                                                                                                                                                                                                                                                                                                Borrower added on 12/21/11 > to pay for property tax (borrow from friend, need to pay back) & central A/C need to be replace. I'm very sorry to let my loan expired last time.<br>\n",
       "4                                                                                                                                                                                                                                                                                                  Borrower added on 12/21/11 > I plan on combining three large interest bills together and freeing up some extra each month to pay toward other bills.  I've always been a good payor but have found myself needing to make adjustments to my budget due to a medical scare. My job is very stable, I love it.<br>\n",
       "Name: desc, dtype: object"
      ]
     },
     "execution_count": 71,
     "metadata": {},
     "output_type": "execute_result"
    }
   ],
   "source": [
    "# Check the loans description\n",
    "pd.set_option('display.max_colwidth', None)\n",
    "loans_df.desc.head()"
   ]
  },
  {
   "cell_type": "code",
   "execution_count": 72,
   "id": "cb4eea66",
   "metadata": {},
   "outputs": [
    {
     "data": {
      "text/plain": [
       "0                         NaN\n",
       "1                       Ryder\n",
       "2                         NaN\n",
       "3         AIR RESOURCES BOARD\n",
       "4    University Medical Group\n",
       "Name: emp_title, dtype: object"
      ]
     },
     "execution_count": 72,
     "metadata": {},
     "output_type": "execute_result"
    }
   ],
   "source": [
    "loans_df.emp_title.head()"
   ]
  },
  {
   "cell_type": "code",
   "execution_count": 73,
   "id": "45054383",
   "metadata": {},
   "outputs": [
    {
     "data": {
      "text/plain": [
       "0                Computer\n",
       "1                    bike\n",
       "2    real estate business\n",
       "3                personel\n",
       "4                Personal\n",
       "Name: title, dtype: object"
      ]
     },
     "execution_count": 73,
     "metadata": {},
     "output_type": "execute_result"
    }
   ],
   "source": [
    "loans_df.title.head()"
   ]
  },
  {
   "cell_type": "markdown",
   "id": "eaa97faa",
   "metadata": {},
   "source": [
    "#### Observation\n",
    "1. <b> desc and title</b> information is available in <b>purpose</b> which is more meaningful thus we will drop this.\n",
    "2. <b>empt_title </b> has employer name which does add any value addition to our analysis we will drop this "
   ]
  },
  {
   "cell_type": "code",
   "execution_count": 74,
   "id": "ce5d79d5",
   "metadata": {},
   "outputs": [
    {
     "data": {
      "text/plain": [
       "(39717, 23)"
      ]
     },
     "execution_count": 74,
     "metadata": {},
     "output_type": "execute_result"
    }
   ],
   "source": [
    "loans_df = loans_df.drop(['desc','emp_title', 'title'], axis=1)\n",
    "loans_df.shape"
   ]
  },
  {
   "cell_type": "markdown",
   "id": "6f8fa1a2",
   "metadata": {},
   "source": [
    "### Columns inspections\n",
    "1. Fix the data in the column \n",
    "2. Fix the datatypes if any after inspecting each column data\n",
    "3. Check the unique data in the columns and take decision accordingly"
   ]
  },
  {
   "cell_type": "code",
   "execution_count": 77,
   "id": "2b8c5351",
   "metadata": {},
   "outputs": [
    {
     "data": {
      "text/plain": [
       "0    Dec-11\n",
       "1    Dec-11\n",
       "2    Dec-11\n",
       "3    Dec-11\n",
       "4    Dec-11\n",
       "Name: issue_d, dtype: object"
      ]
     },
     "execution_count": 77,
     "metadata": {},
     "output_type": "execute_result"
    }
   ],
   "source": [
    "# Check issue_d \n",
    "loans_df.issue_d.head()"
   ]
  },
  {
   "cell_type": "markdown",
   "id": "eb7368d9",
   "metadata": {},
   "source": [
    "#### Decision taken\n",
    "1. Split the Year and Month and store store it into new 2 columns issue_d_month and issue_d_year respectively\n",
    "2. Append 20 to the year dataset for example 11 will be 2011\n",
    "3. Change the data types to integer for year\n",
    "4. Drop the column issue_d as this will be redundant"
   ]
  },
  {
   "cell_type": "code",
   "execution_count": 78,
   "id": "141dfc8f",
   "metadata": {},
   "outputs": [
    {
     "data": {
      "text/plain": [
       "Index(['loan_amnt', 'term', 'int_rate', 'installment', 'grade', 'sub_grade',\n",
       "       'emp_length', 'home_ownership', 'annual_inc', 'verification_status',\n",
       "       'issue_d', 'loan_status', 'pymnt_plan', 'purpose', 'zip_code',\n",
       "       'addr_state', 'dti', 'initial_list_status', 'policy_code',\n",
       "       'acc_now_delinq', 'chargeoff_within_12_mths', 'pub_rec_bankruptcies',\n",
       "       'tax_liens'],\n",
       "      dtype='object')"
      ]
     },
     "execution_count": 78,
     "metadata": {},
     "output_type": "execute_result"
    }
   ],
   "source": [
    "loans_df.columns"
   ]
  },
  {
   "cell_type": "code",
   "execution_count": 81,
   "id": "39bd3319",
   "metadata": {},
   "outputs": [],
   "source": [
    "# Lets split the Year and Month and store it into new 2 columns issue_d_month and issue_d_year respectively\n",
    "loans_df['issue_d_month'], loans_df['issue_d_year'] = loans_df.issue_d.str.split('-').str\n",
    "\n",
    "# Append 20 to the year dataset for example 11 will be 2011\n",
    "loans_df['issue_d_year'] = '20' + loans_df['issue_d_year']\n",
    "\n",
    "# Change the data type to integer\n",
    "loans_df['issue_d_year'] = loans_df['issue_d_year'].astype(int)"
   ]
  },
  {
   "cell_type": "code",
   "execution_count": 83,
   "id": "c26e403a",
   "metadata": {},
   "outputs": [
    {
     "data": {
      "text/plain": [
       "(39717, 24)"
      ]
     },
     "execution_count": 83,
     "metadata": {},
     "output_type": "execute_result"
    }
   ],
   "source": [
    "#As the we separated the month and year from issue_d column, removing the issue_d as it is a redudant column\n",
    "loans_df = loans_df.drop('issue_d', axis = 1)\n",
    "loans_df.shape"
   ]
  },
  {
   "cell_type": "code",
   "execution_count": 87,
   "id": "fc730262",
   "metadata": {},
   "outputs": [
    {
     "name": "stdout",
     "output_type": "stream",
     "text": [
      "0.00    39661\n",
      "Name: chargeoff_within_12_mths, dtype: int64\n",
      "0    39717\n",
      "Name: acc_now_delinq, dtype: int64\n",
      "f    39717\n",
      "Name: initial_list_status, dtype: int64\n",
      "n    39717\n",
      "Name: pymnt_plan, dtype: int64\n",
      "0.00    39678\n",
      "Name: tax_liens, dtype: int64\n",
      "1    39717\n",
      "Name: policy_code, dtype: int64\n"
     ]
    }
   ],
   "source": [
    "# Remove all the columns which as the same value or same value and NaN value\n",
    "print (loans_df.chargeoff_within_12_mths.value_counts())\n",
    "print (loans_df.acc_now_delinq.value_counts())\n",
    "print (loans_df.initial_list_status.value_counts())\n",
    "print (loans_df.pymnt_plan.value_counts())\n",
    "print (loans_df.tax_liens.value_counts())\n",
    "print (loans_df.policy_code.value_counts())\n"
   ]
  },
  {
   "cell_type": "code",
   "execution_count": 88,
   "id": "4bb59eab",
   "metadata": {},
   "outputs": [
    {
     "data": {
      "text/plain": [
       "(39717, 18)"
      ]
     },
     "execution_count": 88,
     "metadata": {},
     "output_type": "execute_result"
    }
   ],
   "source": [
    "single_value_columns = ['chargeoff_within_12_mths', \n",
    "                        'acc_now_delinq', \n",
    "                        'initial_list_status', \n",
    "                        'pymnt_plan', \n",
    "                        'tax_liens', \n",
    "                        'policy_code']\n",
    "\n",
    "loans_df = loans_df.drop(single_value_columns, axis = 1)\n",
    "loans_df.shape"
   ]
  },
  {
   "cell_type": "code",
   "execution_count": 89,
   "id": "5f8cb0e2",
   "metadata": {},
   "outputs": [
    {
     "data": {
      "text/plain": [
       "Index(['loan_amnt', 'term', 'int_rate', 'installment', 'grade', 'sub_grade',\n",
       "       'emp_length', 'home_ownership', 'annual_inc', 'verification_status',\n",
       "       'loan_status', 'purpose', 'zip_code', 'addr_state', 'dti',\n",
       "       'pub_rec_bankruptcies', 'issue_d_month', 'issue_d_year'],\n",
       "      dtype='object')"
      ]
     },
     "execution_count": 89,
     "metadata": {},
     "output_type": "execute_result"
    }
   ],
   "source": [
    "loans_df.columns"
   ]
  },
  {
   "cell_type": "code",
   "execution_count": 90,
   "id": "c27af79c",
   "metadata": {},
   "outputs": [
    {
     "data": {
      "text/plain": [
       "10+ years    8879\n",
       "< 1 year     4583\n",
       "2 years      4388\n",
       "3 years      4095\n",
       "4 years      3436\n",
       "5 years      3282\n",
       "1 year       3240\n",
       "6 years      2229\n",
       "7 years      1773\n",
       "8 years      1479\n",
       "9 years      1258\n",
       "Name: emp_length, dtype: int64"
      ]
     },
     "execution_count": 90,
     "metadata": {},
     "output_type": "execute_result"
    }
   ],
   "source": [
    "# Verify emp_length column\n",
    "loans_df.emp_length.value_counts()"
   ]
  },
  {
   "cell_type": "markdown",
   "id": "2d2e2fcc",
   "metadata": {},
   "source": [
    "#### Decision taken\n",
    "1. Convert 10+ years = 10.5 \n",
    "2. < 1 year = 0.5 "
   ]
  },
  {
   "cell_type": "code",
   "execution_count": 91,
   "id": "bdcd5396",
   "metadata": {},
   "outputs": [
    {
     "data": {
      "text/plain": [
       "count   38,642.00\n",
       "mean         5.15\n",
       "std          3.65\n",
       "min          0.50\n",
       "25%          2.00\n",
       "50%          4.00\n",
       "75%          9.00\n",
       "max         10.50\n",
       "Name: emp_length, dtype: float64"
      ]
     },
     "execution_count": 91,
     "metadata": {},
     "output_type": "execute_result"
    }
   ],
   "source": [
    "# Align the data types\n",
    "# Replace 10+ years = 10.5 and < 1 year = 0.5 \n",
    "loans_df.emp_length.replace({'10+ years' : '10.5 years','< 1 year' : '0.5 year'},inplace=True)\n",
    "\n",
    "# Remove years from emp_lengtt and comvert it into float\n",
    "loans_df.emp_length = loans_df.emp_length.apply(lambda x:float(str(x).split()[0]))\n",
    "\n",
    "loans_df.emp_length.describe()"
   ]
  },
  {
   "cell_type": "code",
   "execution_count": 92,
   "id": "33723c91",
   "metadata": {},
   "outputs": [
    {
     "data": {
      "text/plain": [
       "0    10.65%\n",
       "1    15.27%\n",
       "2    15.96%\n",
       "3    13.49%\n",
       "4    12.69%\n",
       "Name: int_rate, dtype: object"
      ]
     },
     "execution_count": 92,
     "metadata": {},
     "output_type": "execute_result"
    }
   ],
   "source": [
    "#  Check int_rate column\n",
    "loans_df.int_rate.head()"
   ]
  },
  {
   "cell_type": "code",
   "execution_count": 93,
   "id": "c1868f1d",
   "metadata": {},
   "outputs": [],
   "source": [
    "# Remove the percentage from the interest rate and comvert it into float\n",
    "loans_df.int_rate = loans_df.int_rate.apply(lambda x: float(x.replace('%','')))"
   ]
  },
  {
   "cell_type": "code",
   "execution_count": 94,
   "id": "8933a8bb",
   "metadata": {},
   "outputs": [
    {
     "data": {
      "text/plain": [
       "0   10.65\n",
       "1   15.27\n",
       "2   15.96\n",
       "3   13.49\n",
       "4   12.69\n",
       "Name: int_rate, dtype: float64"
      ]
     },
     "execution_count": 94,
     "metadata": {},
     "output_type": "execute_result"
    }
   ],
   "source": [
    "loans_df.int_rate.head()"
   ]
  },
  {
   "cell_type": "code",
   "execution_count": 97,
   "id": "da49f432",
   "metadata": {},
   "outputs": [
    {
     "data": {
      "text/plain": [
       " 36 months    29096\n",
       " 60 months    10621\n",
       "Name: term, dtype: int64"
      ]
     },
     "execution_count": 97,
     "metadata": {},
     "output_type": "execute_result"
    }
   ],
   "source": [
    "# Check term column\n",
    "loans_df.term.value_counts()"
   ]
  },
  {
   "cell_type": "code",
   "execution_count": 98,
   "id": "9a098110",
   "metadata": {},
   "outputs": [],
   "source": [
    "# Remove the months from the term convert it into int\n",
    "loans_df.term = loans_df.term.str.split(' ').str[1].astype(int)"
   ]
  },
  {
   "cell_type": "code",
   "execution_count": 100,
   "id": "d87cfe3a",
   "metadata": {},
   "outputs": [
    {
     "data": {
      "text/plain": [
       "36    29096\n",
       "60    10621\n",
       "Name: term, dtype: int64"
      ]
     },
     "execution_count": 100,
     "metadata": {},
     "output_type": "execute_result"
    }
   ],
   "source": [
    "# Verify the change\n",
    "loans_df.term.value_counts()"
   ]
  },
  {
   "cell_type": "markdown",
   "id": "9ec4b8da",
   "metadata": {},
   "source": [
    "#### Loan status \n",
    "Step 1 : Status = 'Current', theey are neither fully paid not defaulted, so we willl drop the current loans data.\n",
    "\n",
    "Step 2: Tag the other two values as Fully Paid = 0 and Charged Off = 1 to make your analysis simple and clean."
   ]
  },
  {
   "cell_type": "code",
   "execution_count": 102,
   "id": "1d9d0904",
   "metadata": {},
   "outputs": [],
   "source": [
    "# Remove the rows where the loan_status = current we dont need it\n",
    "loans_df = loans_df[~(loans_df.loan_status == \"Current\")]"
   ]
  },
  {
   "cell_type": "code",
   "execution_count": 103,
   "id": "e231a16d",
   "metadata": {},
   "outputs": [
    {
     "data": {
      "text/plain": [
       "Fully Paid     32950\n",
       "Charged Off     5627\n",
       "Name: loan_status, dtype: int64"
      ]
     },
     "execution_count": 103,
     "metadata": {},
     "output_type": "execute_result"
    }
   ],
   "source": [
    "# Check the values afrer the change is committed\n",
    "loans_df.loan_status.value_counts()"
   ]
  },
  {
   "cell_type": "code",
   "execution_count": 104,
   "id": "d04cc6e7",
   "metadata": {},
   "outputs": [],
   "source": [
    "# Tag fully paid = 0 or Charged off = 1 to make your analysis simple and clean\n",
    "\n",
    "loans_df.loan_status.replace({'Fully Paid' : 0,'Charged Off' : 1},inplace=True)"
   ]
  },
  {
   "cell_type": "code",
   "execution_count": 105,
   "id": "de9c43bd",
   "metadata": {},
   "outputs": [
    {
     "data": {
      "text/plain": [
       "0    32950\n",
       "1     5627\n",
       "Name: loan_status, dtype: int64"
      ]
     },
     "execution_count": 105,
     "metadata": {},
     "output_type": "execute_result"
    }
   ],
   "source": [
    "# Check the values afrer the change is committed\n",
    "loans_df.loan_status.value_counts()"
   ]
  },
  {
   "cell_type": "code",
   "execution_count": 107,
   "id": "002e1b0d",
   "metadata": {},
   "outputs": [
    {
     "data": {
      "text/plain": [
       "emp_length             2.68\n",
       "pub_rec_bankruptcies   1.81\n",
       "loan_amnt              0.00\n",
       "loan_status            0.00\n",
       "issue_d_month          0.00\n",
       "dti                    0.00\n",
       "addr_state             0.00\n",
       "zip_code               0.00\n",
       "purpose                0.00\n",
       "verification_status    0.00\n",
       "term                   0.00\n",
       "annual_inc             0.00\n",
       "home_ownership         0.00\n",
       "sub_grade              0.00\n",
       "grade                  0.00\n",
       "installment            0.00\n",
       "int_rate               0.00\n",
       "issue_d_year           0.00\n",
       "dtype: float64"
      ]
     },
     "execution_count": 107,
     "metadata": {},
     "output_type": "execute_result"
    }
   ],
   "source": [
    "# Check the percentage of missing values to see which columns are of interest for imputation\n",
    "round(100*(loans_df.isnull().sum()/len(loans_df.index)), 2).sort_values(ascending=False)"
   ]
  },
  {
   "cell_type": "markdown",
   "id": "0bf0738a",
   "metadata": {},
   "source": [
    "### Imputation recommendations"
   ]
  },
  {
   "cell_type": "code",
   "execution_count": 108,
   "id": "47955dc6",
   "metadata": {},
   "outputs": [
    {
     "data": {
      "text/plain": [
       "count   37,544.00\n",
       "mean         5.11\n",
       "std          3.64\n",
       "min          0.50\n",
       "25%          2.00\n",
       "50%          4.00\n",
       "75%          9.00\n",
       "max         10.50\n",
       "Name: emp_length, dtype: float64"
      ]
     },
     "execution_count": 108,
     "metadata": {},
     "output_type": "execute_result"
    }
   ],
   "source": [
    "# Check representative data points for emp_length\n",
    "loans_df.emp_length.describe()"
   ]
  },
  {
   "cell_type": "code",
   "execution_count": 110,
   "id": "6a474fe6",
   "metadata": {},
   "outputs": [
    {
     "data": {
      "image/png": "[encoded data removed]",
      "text/plain": [
       "<Figure size 432x288 with 1 Axes>"
      ]
     },
     "metadata": {
      "needs_background": "light"
     },
     "output_type": "display_data"
    }
   ],
   "source": [
    "# Check for outliers\n",
    "sns.boxplot(loans_df.emp_length)\n",
    "plt.show()"
   ]
  },
  {
   "cell_type": "markdown",
   "id": "65bbae6d",
   "metadata": {},
   "source": [
    "#### Conclusion:  Column = emp_length\n",
    "\n",
    "- Mean and Median there are no much difference and there are no  outliers as well thus we can chose \n",
    "<b>Mean = 5.11 </b> as impute value.\n",
    "\n",
    "- Employee length directly impacts the loan amount eligibility and the salary, hence imputing the null values could lead to create the bias in the data\n",
    "- As result of this, <b> we will remove the null values </b>\n",
    "- Since the percentage of data is 2.5% a small percent this should not effect the analysis.\n"
   ]
  },
  {
   "cell_type": "code",
   "execution_count": 115,
   "id": "1b3b2fef",
   "metadata": {},
   "outputs": [],
   "source": [
    "loans_df = loans_df[~(loans_df.emp_length.isnull())]"
   ]
  },
  {
   "cell_type": "code",
   "execution_count": 119,
   "id": "28df1e88",
   "metadata": {},
   "outputs": [
    {
     "data": {
      "text/plain": [
       "0.00    35312\n",
       "1.00     1530\n",
       "2.00        5\n",
       "Name: pub_rec_bankruptcies, dtype: int64"
      ]
     },
     "execution_count": 119,
     "metadata": {},
     "output_type": "execute_result"
    }
   ],
   "source": [
    "loans_df.pub_rec_bankruptcies.value_counts()"
   ]
  },
  {
   "cell_type": "code",
   "execution_count": 120,
   "id": "0ab90473",
   "metadata": {},
   "outputs": [
    {
     "data": {
      "text/plain": [
       "count   36,847.00\n",
       "mean         0.04\n",
       "std          0.20\n",
       "min          0.00\n",
       "25%          0.00\n",
       "50%          0.00\n",
       "75%          0.00\n",
       "max          2.00\n",
       "Name: pub_rec_bankruptcies, dtype: float64"
      ]
     },
     "execution_count": 120,
     "metadata": {},
     "output_type": "execute_result"
    }
   ],
   "source": [
    "loans_df.pub_rec_bankruptcies.describe()"
   ]
  },
  {
   "cell_type": "markdown",
   "id": "251c1a70",
   "metadata": {},
   "source": [
    "#### Conclusion:  Column = pub_rec_bankruptcies\n",
    "\n",
    "Since most of the values 75% of data points are 0 thus we can chose <b>Median = 0 </b> as impute value."
   ]
  },
  {
   "cell_type": "code",
   "execution_count": 121,
   "id": "94c0ba3c",
   "metadata": {},
   "outputs": [
    {
     "data": {
      "text/plain": [
       "pub_rec_bankruptcies   1.86\n",
       "loan_amnt              0.00\n",
       "term                   0.00\n",
       "issue_d_month          0.00\n",
       "dti                    0.00\n",
       "addr_state             0.00\n",
       "zip_code               0.00\n",
       "purpose                0.00\n",
       "loan_status            0.00\n",
       "verification_status    0.00\n",
       "annual_inc             0.00\n",
       "home_ownership         0.00\n",
       "emp_length             0.00\n",
       "sub_grade              0.00\n",
       "grade                  0.00\n",
       "installment            0.00\n",
       "int_rate               0.00\n",
       "issue_d_year           0.00\n",
       "dtype: float64"
      ]
     },
     "execution_count": 121,
     "metadata": {},
     "output_type": "execute_result"
    }
   ],
   "source": [
    "round(100*(loans_df.isnull().sum()/len(loans_df.index)), 2).sort_values(ascending=False)"
   ]
  },
  {
   "cell_type": "markdown",
   "id": "70f566ff",
   "metadata": {},
   "source": [
    "# Data Analysis\n",
    "## Univariate Analysis - Quantitative Variables"
   ]
  },
  {
   "cell_type": "markdown",
   "id": "ab51a87f",
   "metadata": {},
   "source": [
    "#### Summary statistics"
   ]
  },
  {
   "cell_type": "code",
   "execution_count": 122,
   "id": "16ab6f86",
   "metadata": {},
   "outputs": [
    {
     "data": {
      "text/html": [
       "<div>\n",
       "<style scoped>\n",
       "    .dataframe tbody tr th:only-of-type {\n",
       "        vertical-align: middle;\n",
       "    }\n",
       "\n",
       "    .dataframe tbody tr th {\n",
       "        vertical-align: top;\n",
       "    }\n",
       "\n",
       "    .dataframe thead th {\n",
       "        text-align: right;\n",
       "    }\n",
       "</style>\n",
       "<table border=\"1\" class=\"dataframe\">\n",
       "  <thead>\n",
       "    <tr style=\"text-align: right;\">\n",
       "      <th></th>\n",
       "      <th>loan_amnt</th>\n",
       "      <th>term</th>\n",
       "      <th>int_rate</th>\n",
       "      <th>installment</th>\n",
       "      <th>emp_length</th>\n",
       "      <th>annual_inc</th>\n",
       "      <th>loan_status</th>\n",
       "      <th>dti</th>\n",
       "      <th>pub_rec_bankruptcies</th>\n",
       "      <th>issue_d_year</th>\n",
       "    </tr>\n",
       "  </thead>\n",
       "  <tbody>\n",
       "    <tr>\n",
       "      <th>count</th>\n",
       "      <td>37,544.00</td>\n",
       "      <td>37,544.00</td>\n",
       "      <td>37,544.00</td>\n",
       "      <td>37,544.00</td>\n",
       "      <td>37,544.00</td>\n",
       "      <td>37,544.00</td>\n",
       "      <td>37,544.00</td>\n",
       "      <td>37,544.00</td>\n",
       "      <td>36,847.00</td>\n",
       "      <td>37,544.00</td>\n",
       "    </tr>\n",
       "    <tr>\n",
       "      <th>mean</th>\n",
       "      <td>11,119.33</td>\n",
       "      <td>41.92</td>\n",
       "      <td>11.96</td>\n",
       "      <td>324.65</td>\n",
       "      <td>5.11</td>\n",
       "      <td>69,407.08</td>\n",
       "      <td>0.14</td>\n",
       "      <td>13.28</td>\n",
       "      <td>0.04</td>\n",
       "      <td>2,010.30</td>\n",
       "    </tr>\n",
       "    <tr>\n",
       "      <th>std</th>\n",
       "      <td>7,354.10</td>\n",
       "      <td>10.34</td>\n",
       "      <td>3.68</td>\n",
       "      <td>208.90</td>\n",
       "      <td>3.64</td>\n",
       "      <td>64,676.98</td>\n",
       "      <td>0.35</td>\n",
       "      <td>6.66</td>\n",
       "      <td>0.20</td>\n",
       "      <td>0.89</td>\n",
       "    </tr>\n",
       "    <tr>\n",
       "      <th>min</th>\n",
       "      <td>500.00</td>\n",
       "      <td>36.00</td>\n",
       "      <td>5.42</td>\n",
       "      <td>15.69</td>\n",
       "      <td>0.50</td>\n",
       "      <td>4,000.00</td>\n",
       "      <td>0.00</td>\n",
       "      <td>0.00</td>\n",
       "      <td>0.00</td>\n",
       "      <td>2,007.00</td>\n",
       "    </tr>\n",
       "    <tr>\n",
       "      <th>25%</th>\n",
       "      <td>5,500.00</td>\n",
       "      <td>36.00</td>\n",
       "      <td>8.94</td>\n",
       "      <td>167.37</td>\n",
       "      <td>2.00</td>\n",
       "      <td>41,000.00</td>\n",
       "      <td>0.00</td>\n",
       "      <td>8.16</td>\n",
       "      <td>0.00</td>\n",
       "      <td>2,010.00</td>\n",
       "    </tr>\n",
       "    <tr>\n",
       "      <th>50%</th>\n",
       "      <td>10,000.00</td>\n",
       "      <td>36.00</td>\n",
       "      <td>11.83</td>\n",
       "      <td>280.00</td>\n",
       "      <td>4.00</td>\n",
       "      <td>60,000.00</td>\n",
       "      <td>0.00</td>\n",
       "      <td>13.38</td>\n",
       "      <td>0.00</td>\n",
       "      <td>2,011.00</td>\n",
       "    </tr>\n",
       "    <tr>\n",
       "      <th>75%</th>\n",
       "      <td>15,000.00</td>\n",
       "      <td>36.00</td>\n",
       "      <td>14.42</td>\n",
       "      <td>428.94</td>\n",
       "      <td>9.00</td>\n",
       "      <td>83,000.00</td>\n",
       "      <td>0.00</td>\n",
       "      <td>18.55</td>\n",
       "      <td>0.00</td>\n",
       "      <td>2,011.00</td>\n",
       "    </tr>\n",
       "    <tr>\n",
       "      <th>max</th>\n",
       "      <td>35,000.00</td>\n",
       "      <td>60.00</td>\n",
       "      <td>24.40</td>\n",
       "      <td>1,305.19</td>\n",
       "      <td>10.50</td>\n",
       "      <td>6,000,000.00</td>\n",
       "      <td>1.00</td>\n",
       "      <td>29.99</td>\n",
       "      <td>2.00</td>\n",
       "      <td>2,011.00</td>\n",
       "    </tr>\n",
       "  </tbody>\n",
       "</table>\n",
       "</div>"
      ],
      "text/plain": [
       "       loan_amnt      term  int_rate  installment  emp_length   annual_inc  \\\n",
       "count  37,544.00 37,544.00 37,544.00    37,544.00   37,544.00    37,544.00   \n",
       "mean   11,119.33     41.92     11.96       324.65        5.11    69,407.08   \n",
       "std     7,354.10     10.34      3.68       208.90        3.64    64,676.98   \n",
       "min       500.00     36.00      5.42        15.69        0.50     4,000.00   \n",
       "25%     5,500.00     36.00      8.94       167.37        2.00    41,000.00   \n",
       "50%    10,000.00     36.00     11.83       280.00        4.00    60,000.00   \n",
       "75%    15,000.00     36.00     14.42       428.94        9.00    83,000.00   \n",
       "max    35,000.00     60.00     24.40     1,305.19       10.50 6,000,000.00   \n",
       "\n",
       "       loan_status       dti  pub_rec_bankruptcies  issue_d_year  \n",
       "count    37,544.00 37,544.00             36,847.00     37,544.00  \n",
       "mean          0.14     13.28                  0.04      2,010.30  \n",
       "std           0.35      6.66                  0.20          0.89  \n",
       "min           0.00      0.00                  0.00      2,007.00  \n",
       "25%           0.00      8.16                  0.00      2,010.00  \n",
       "50%           0.00     13.38                  0.00      2,011.00  \n",
       "75%           0.00     18.55                  0.00      2,011.00  \n",
       "max           1.00     29.99                  2.00      2,011.00  "
      ]
     },
     "execution_count": 122,
     "metadata": {},
     "output_type": "execute_result"
    }
   ],
   "source": [
    "# The summary statiscs provides the descriptive statistics of the numeric variables\n",
    "loans_df.describe()"
   ]
  },
  {
   "cell_type": "markdown",
   "id": "937932ea",
   "metadata": {},
   "source": [
    "### Loan Amount (loan_amnt)"
   ]
  },
  {
   "cell_type": "code",
   "execution_count": 131,
   "id": "9d870e69",
   "metadata": {},
   "outputs": [
    {
     "data": {
      "text/plain": [
       "count   37,544.00\n",
       "mean    11,119.33\n",
       "std      7,354.10\n",
       "min        500.00\n",
       "25%      5,500.00\n",
       "50%     10,000.00\n",
       "75%     15,000.00\n",
       "max     35,000.00\n",
       "Name: loan_amnt, dtype: float64"
      ]
     },
     "execution_count": 131,
     "metadata": {},
     "output_type": "execute_result"
    }
   ],
   "source": [
    "loans_df.loan_amnt.describe()"
   ]
  },
  {
   "cell_type": "code",
   "execution_count": 130,
   "id": "eb9aecb3",
   "metadata": {},
   "outputs": [
    {
     "data": {
      "image/png": "[encoded data removed]",
      "text/plain": [
       "<Figure size 1008x288 with 2 Axes>"
      ]
     },
     "metadata": {
      "needs_background": "light"
     },
     "output_type": "display_data"
    }
   ],
   "source": [
    "#Loan amount is a discrete numerical variable so we can use dist plot and box plot to analyse the information\n",
    "plt.figure(figsize=(14,4))\n",
    "\n",
    "plt.subplot(1,2,1)\n",
    "plot_1 = sns.distplot(a=loans_df.loan_amnt, rug=True, color='green')\n",
    "plot_1.set_xlabel ('Loan amount',color='green',fontweight='bold')\n",
    "\n",
    "plt.subplot(1,2,2)\n",
    "plot_2 = sns.boxplot(data=loans_df.loan_amnt, color = 'green')\n",
    "plot_2.set_xlabel ('Loan amount',color='green',fontweight='bold')\n",
    "\n",
    "plt.suptitle('Loan amount distribution',color='green',fontweight='bold')\n",
    "plt.show()"
   ]
  },
  {
   "cell_type": "markdown",
   "id": "546808cd",
   "metadata": {},
   "source": [
    "##### Analysis\n",
    "-  The most preferred loan amount range varies from 5000 to 15000.\n",
    "-  The median is 10000 and mean is 11141.32. There are a few outliers.\n",
    "-  There are outliers ranging above 35000\n",
    "-  The purpose may help to identify the different reasons for the smaller/larger amount of loans\n",
    "-  The groupby on loan_status could help to identify the ratio of defaulters to the loan amount ranges."
   ]
  },
  {
   "cell_type": "markdown",
   "id": "598cbf11",
   "metadata": {},
   "source": [
    "### Interest rate (int_rate)"
   ]
  },
  {
   "cell_type": "code",
   "execution_count": 135,
   "id": "6073af06",
   "metadata": {},
   "outputs": [
    {
     "data": {
      "text/plain": [
       "count   37,544.00\n",
       "mean        11.96\n",
       "std          3.68\n",
       "min          5.42\n",
       "25%          8.94\n",
       "50%         11.83\n",
       "75%         14.42\n",
       "max         24.40\n",
       "Name: int_rate, dtype: float64"
      ]
     },
     "execution_count": 135,
     "metadata": {},
     "output_type": "execute_result"
    }
   ],
   "source": [
    "loans_df.int_rate.describe()"
   ]
  },
  {
   "cell_type": "code",
   "execution_count": 148,
   "id": "11e4a160",
   "metadata": {},
   "outputs": [
    {
     "data": {
      "image/png": "[encoded data removed]",
      "text/plain": [
       "<Figure size 1008x288 with 2 Axes>"
      ]
     },
     "metadata": {
      "needs_background": "light"
     },
     "output_type": "display_data"
    }
   ],
   "source": [
    "#Interest rate is a continuous numerical variable so we can use dist plot and box plot to analyse the information\n",
    "plt.figure(figsize=(14,4))\n",
    "\n",
    "plt.subplot(1,2,1)\n",
    "plot_1 = sns.distplot(a=loans_df.int_rate, rug=True, color='green')\n",
    "plot_1.set_xlabel ('Interest rate',color='green',fontweight='bold')\n",
    "\n",
    "plt.subplot(1,2,2)\n",
    "plot_2 = sns.boxplot(data=loans_df.int_rate, color = 'green')\n",
    "plot_2.set_xlabel ('Interest rate',color='green',fontweight='bold')\n",
    "\n",
    "plt.suptitle('Interest rate distribution',color='green',fontweight='bold')\n",
    "plt.show()"
   ]
  },
  {
   "cell_type": "markdown",
   "id": "3f6533d9",
   "metadata": {},
   "source": [
    "##### Analysis\n",
    "-  The interest rates range varies from 8% to 15%.\n",
    "-  The median intereset rate is ~11.86% and mean is 11.98 which means there are close to none outliers.\n",
    "-  The grade and subgrade variables could help to understand the defaulters behavior"
   ]
  },
  {
   "cell_type": "markdown",
   "id": "c8dbb09b",
   "metadata": {},
   "source": [
    "### Installment (installment)"
   ]
  },
  {
   "cell_type": "code",
   "execution_count": 136,
   "id": "17492084",
   "metadata": {},
   "outputs": [
    {
     "data": {
      "text/plain": [
       "count   37,544.00\n",
       "mean       324.65\n",
       "std        208.90\n",
       "min         15.69\n",
       "25%        167.37\n",
       "50%        280.00\n",
       "75%        428.94\n",
       "max      1,305.19\n",
       "Name: installment, dtype: float64"
      ]
     },
     "execution_count": 136,
     "metadata": {},
     "output_type": "execute_result"
    }
   ],
   "source": [
    "loans_df.installment.describe()"
   ]
  },
  {
   "cell_type": "code",
   "execution_count": 149,
   "id": "5433b058",
   "metadata": {},
   "outputs": [
    {
     "data": {
      "image/png": "[encoded data removed]",
      "text/plain": [
       "<Figure size 1008x288 with 2 Axes>"
      ]
     },
     "metadata": {
      "needs_background": "light"
     },
     "output_type": "display_data"
    }
   ],
   "source": [
    "#Interest rate is a continuous numerical variable so we can use dist plot and box plot to analyse the information\n",
    "plt.figure(figsize=(14,4))\n",
    "\n",
    "plt.subplot(1,2,1)\n",
    "plot_1 = sns.distplot(a=loans_df.installment, rug=True, color='green')\n",
    "plot_1.set_xlabel ('Installment',color='green',fontweight='bold')\n",
    "\n",
    "plt.subplot(1,2,2)\n",
    "plot_2 = sns.boxplot(data=loans_df.installment, color = 'green')\n",
    "plot_2.set_xlabel ('Installment',color='green',fontweight='bold')\n",
    "\n",
    "\n",
    "plt.suptitle('Installment distribution',color='green',fontweight='bold')\n",
    "plt.show()"
   ]
  },
  {
   "cell_type": "markdown",
   "id": "c37e5ada",
   "metadata": {},
   "source": [
    "##### Analysis\n",
    "-  The installment varies mostly between 167 and 428.\n",
    "-  The median is ~280 and mean is ~324.\n",
    "-  The defaulters' intstallments could provide more insights."
   ]
  },
  {
   "cell_type": "markdown",
   "id": "64e1867e",
   "metadata": {},
   "source": [
    "### Annual Income (annual_inc)"
   ]
  },
  {
   "cell_type": "code",
   "execution_count": 138,
   "id": "d0fe6c25",
   "metadata": {},
   "outputs": [
    {
     "data": {
      "text/plain": [
       "count      37,544.00\n",
       "mean       69,407.08\n",
       "std        64,676.98\n",
       "min         4,000.00\n",
       "25%        41,000.00\n",
       "50%        60,000.00\n",
       "75%        83,000.00\n",
       "max     6,000,000.00\n",
       "Name: annual_inc, dtype: float64"
      ]
     },
     "execution_count": 138,
     "metadata": {},
     "output_type": "execute_result"
    }
   ],
   "source": [
    "loans_df.annual_inc.describe()"
   ]
  },
  {
   "cell_type": "code",
   "execution_count": 139,
   "id": "4fbeeb35",
   "metadata": {
    "scrolled": true
   },
   "outputs": [
    {
     "data": {
      "image/png": "[encoded data removed]",
      "text/plain": [
       "<Figure size 432x288 with 1 Axes>"
      ]
     },
     "metadata": {
      "needs_background": "light"
     },
     "output_type": "display_data"
    }
   ],
   "source": [
    "sns.boxplot(x=loans_df.annual_inc)\n",
    "plt.xlabel('Annual Income')\n",
    "plt.show()"
   ]
  },
  {
   "cell_type": "markdown",
   "id": "2be9c4a3",
   "metadata": {},
   "source": [
    "#### Observation:\n",
    "1. Data has too many outliers thus we will restrict the data < 100000\n",
    "2. The median is ~60000 and mean is ~69000.\n",
    "3.  The defaulters' annual incomes could provide more insights in the behaviorial pattern."
   ]
  },
  {
   "cell_type": "code",
   "execution_count": 166,
   "id": "c5c81d42",
   "metadata": {},
   "outputs": [
    {
     "data": {
      "image/png": "[encoded data removed]",
      "text/plain": [
       "<Figure size 1728x432 with 3 Axes>"
      ]
     },
     "metadata": {
      "needs_background": "light"
     },
     "output_type": "display_data"
    }
   ],
   "source": [
    "#Annual income is a continuous numerical variable so we can use dist plot and box plot to analyse the information\n",
    "\n",
    "ann_dist = loans_df[loans_df.annual_inc < 100000]\n",
    "\n",
    "plt.figure(figsize=(24,6))\n",
    "\n",
    "plt.subplot(1,3,1)\n",
    "plot_1 = sns.distplot(a=ann_dist.annual_inc, rug=True, color='green')\n",
    "plot_1.set_xlabel ('Annual income',color='green',fontweight='bold')\n",
    "\n",
    "\n",
    "plt.subplot(1,3,2)\n",
    "plot_2 = sns.boxplot(data=ann_dist.annual_inc, color = 'green')\n",
    "plot_2.set_xlabel ('Annual income',color='green',fontweight='bold')\n",
    "\n",
    "\n",
    "# subplot 2\n",
    "plt.subplot(1, 3, 3)\n",
    "plot_3 = (loans_df.annual_inc < 100000).value_counts().plot.pie(autopct='%1.2f%%')\n",
    "plot_3.set_ylabel('Annual Income' ,color='green',fontweight='bold')\n",
    "\n",
    "\n",
    "plt.suptitle('Annual income distribution < 10000',color='green',fontweight='bold')\n",
    "plt.show()\n"
   ]
  },
  {
   "cell_type": "markdown",
   "id": "bab38429",
   "metadata": {},
   "source": [
    "#### Observation\n",
    "1. 85% of loan applicant have got the income below 100000\n",
    "2. 75% of loan applicant have got the income below 82000\n",
    "3. Most of population income lies  between  42000 and 82000"
   ]
  },
  {
   "cell_type": "markdown",
   "id": "4e9b0cd7",
   "metadata": {},
   "source": [
    "### Debt to income ratio (dti)"
   ]
  },
  {
   "cell_type": "code",
   "execution_count": 171,
   "id": "ab1a6ac4",
   "metadata": {},
   "outputs": [
    {
     "data": {
      "text/plain": [
       "count   37,544.00\n",
       "mean        13.28\n",
       "std          6.66\n",
       "min          0.00\n",
       "25%          8.16\n",
       "50%         13.38\n",
       "75%         18.55\n",
       "max         29.99\n",
       "Name: dti, dtype: float64"
      ]
     },
     "execution_count": 171,
     "metadata": {},
     "output_type": "execute_result"
    }
   ],
   "source": [
    "loans_df.dti.describe()"
   ]
  },
  {
   "cell_type": "code",
   "execution_count": 170,
   "id": "71c23cf9",
   "metadata": {},
   "outputs": [
    {
     "data": {
      "image/png": "[encoded data removed]",
      "text/plain": [
       "<Figure size 1008x288 with 2 Axes>"
      ]
     },
     "metadata": {
      "needs_background": "light"
     },
     "output_type": "display_data"
    }
   ],
   "source": [
    "#DTI is a continuous numerical variable so we can use dist plot and box plot to analyse the information\n",
    "plt.figure(figsize=(14,4))\n",
    "\n",
    "plt.subplot(1,2,1)\n",
    "plot_1 = sns.distplot(a=loans_df.dti, color='green')\n",
    "plot_1.set_xlabel ('Debt to income',color='green',fontweight='bold')\n",
    "\n",
    "plt.subplot(1,2,2)\n",
    "plot_2 = sns.boxplot(data=loans_df.dti, color = 'green')\n",
    "plot_2.set_xlabel ('Debt to income',color='green',fontweight='bold')\n",
    "\n",
    "plt.suptitle('DTI distribution',color='green',fontweight='bold')\n",
    "\n",
    "plt.show()"
   ]
  },
  {
   "cell_type": "markdown",
   "id": "ecec6544",
   "metadata": {},
   "source": [
    "##### Analysis\n",
    "-  The DTI has close normal distribution.\n",
    "-  The median is ~13.42 and mean is ~13.330.\n",
    "-  The defaulters' DTI could provide more insights in the behaviorial pattern."
   ]
  },
  {
   "cell_type": "markdown",
   "id": "adcc62cd",
   "metadata": {},
   "source": [
    "## Univariate Analysis - Catergorical  Variables\n"
   ]
  },
  {
   "cell_type": "markdown",
   "id": "ada14a3a",
   "metadata": {},
   "source": [
    "#### Term (term)"
   ]
  },
  {
   "cell_type": "code",
   "execution_count": 190,
   "id": "0b56040c",
   "metadata": {},
   "outputs": [
    {
     "data": {
      "image/png": "[encoded data removed]",
      "text/plain": [
       "<Figure size 576x288 with 1 Axes>"
      ]
     },
     "metadata": {
      "needs_background": "light"
     },
     "output_type": "display_data"
    }
   ],
   "source": [
    "#Term is a ordered categorical numerical variable so we can use dist plot and box plot to analyse the information\n",
    "\n",
    "plt.figure(figsize=(8,4))\n",
    "term_data = loans_df.term.value_counts(normalize=True).reset_index()\n",
    "sns.barplot(x='index', y='term', data=term_data)\n",
    "plt.xlabel('Term')\n",
    "plt.ylabel('Frequency in %')\n",
    "plt.title('Univariate Analysis: Term Distribution',color='black',fontweight='bold')\n",
    "\n",
    "plt.show()"
   ]
  },
  {
   "cell_type": "markdown",
   "id": "6992ad06",
   "metadata": {},
   "source": [
    "##### Analysis\n",
    "-  Most of the people are opting for 36 months loan which is obvious given the fact that the majority of the population sample is applying for loan ranging from 5000 to 15000\n",
    "-  Loan Term, loan amount and defaulter's group could provide further insights"
   ]
  },
  {
   "cell_type": "code",
   "execution_count": 191,
   "id": "6b94eca9",
   "metadata": {},
   "outputs": [
    {
     "data": {
      "image/png": "[encoded data removed]",
      "text/plain": [
       "<Figure size 576x288 with 1 Axes>"
      ]
     },
     "metadata": {
      "needs_background": "light"
     },
     "output_type": "display_data"
    }
   ],
   "source": [
    "plt.figure(figsize=(8,4))\n",
    "\n",
    "grade_data = loans_df.grade.value_counts(normalize=True).reset_index()\n",
    "sns.barplot(x='index', y='grade', data=grade_data)\n",
    "plt.xlabel('Grade')\n",
    "plt.ylabel('Frequency')\n",
    "plt.title('Univariate Analysis: Grade',color='black',fontweight='bold')\n",
    "\n",
    "plt.show()"
   ]
  },
  {
   "cell_type": "markdown",
   "id": "50c2d9c3",
   "metadata": {},
   "source": [
    "##### Analysis\n",
    "-  Most of the population sample is falling in the B grade which is an expected bucket for the population\n",
    "-  In bivariate analysis, the corelation of defaulters with grades and subgrades will be quite insightful"
   ]
  },
  {
   "cell_type": "code",
   "execution_count": 196,
   "id": "3628cd9f",
   "metadata": {},
   "outputs": [
    {
     "data": {
      "image/png": "[encoded data removed]",
      "text/plain": [
       "<Figure size 1152x360 with 1 Axes>"
      ]
     },
     "metadata": {
      "needs_background": "light"
     },
     "output_type": "display_data"
    }
   ],
   "source": [
    "plt.figure(figsize=(16,5))\n",
    "\n",
    "sub_grade_data = loans_df.sub_grade.value_counts(normalize=True).reset_index()\n",
    "sns.barplot(x='index', y='sub_grade', data=sub_grade_data)\n",
    "plt.xlabel('Grade')\n",
    "plt.ylabel('Frequency')\n",
    "plt.title('Univariate Analysis: Sub Grade',color='black',fontweight='bold')\n",
    "\n",
    "plt.show()"
   ]
  },
  {
   "cell_type": "code",
   "execution_count": 198,
   "id": "9e4bf96a",
   "metadata": {},
   "outputs": [
    {
     "data": {
      "image/png": "[encoded data removed]",
      "text/plain": [
       "<Figure size 864x288 with 1 Axes>"
      ]
     },
     "metadata": {
      "needs_background": "light"
     },
     "output_type": "display_data"
    }
   ],
   "source": [
    "sub_grade_data = sub_grade_data.rename(columns={'index': 'subGradeKey'})\n",
    "sub_grade_data['Rank'] = range(1,sub_grade_data.shape[0]+1)\n",
    "\n",
    "plt.figure(figsize=[12,4])\n",
    "\n",
    "graph = sns.scatterplot(sub_grade_data.Rank,sub_grade_data.sub_grade, hue=sub_grade_data.subGradeKey, legend = False)\n",
    "graph.set(xlabel = 'Subgrades', ylabel='Subgrade frequency')\n",
    "\n",
    "plt.show()"
   ]
  },
  {
   "cell_type": "markdown",
   "id": "647098f4",
   "metadata": {},
   "source": [
    "#### Employment experience (emp_length)"
   ]
  },
  {
   "cell_type": "code",
   "execution_count": 199,
   "id": "8da7c811",
   "metadata": {},
   "outputs": [
    {
     "data": {
      "image/png": "[encoded data removed]",
      "text/plain": [
       "<Figure size 864x288 with 1 Axes>"
      ]
     },
     "metadata": {
      "needs_background": "light"
     },
     "output_type": "display_data"
    }
   ],
   "source": [
    "emp_length_data = loans_df.emp_length.value_counts(normalize=True).reset_index()\n",
    "\n",
    "plt.figure(figsize=(12,4))\n",
    "sns.barplot(x='index', y='emp_length', data=emp_length_data)\n",
    "plt.xlabel('Employment length')\n",
    "plt.ylabel('Frequency')\n",
    "plt.title('Univariate Analysis: Employment length',color='black',fontweight='bold')\n",
    "plt.show()"
   ]
  },
  {
   "cell_type": "markdown",
   "id": "bbcebd2b",
   "metadata": {},
   "source": [
    "#### Analysis\n",
    "1. Most of the loan applicents have tanure length is more than 10+ years constuting around 22.61%"
   ]
  },
  {
   "cell_type": "markdown",
   "id": "d8fa6479",
   "metadata": {},
   "source": [
    "#### Home Ownership  (home_ownership)\n"
   ]
  },
  {
   "cell_type": "code",
   "execution_count": 200,
   "id": "6a001a77",
   "metadata": {},
   "outputs": [
    {
     "data": {
      "image/png": "[encoded data removed]",
      "text/plain": [
       "<Figure size 720x288 with 1 Axes>"
      ]
     },
     "metadata": {
      "needs_background": "light"
     },
     "output_type": "display_data"
    }
   ],
   "source": [
    "home_ownership_data = loans_df.home_ownership.value_counts(normalize=True).reset_index()\n",
    "plt.figure(figsize=(10,4))\n",
    "sns.barplot(x='index', y='home_ownership', data=home_ownership_data)\n",
    "plt.xlabel('Home ownership')\n",
    "plt.ylabel('Frequency')\n",
    "plt.title('Univariate Analysis: Home ownership Distribution',color='black',fontweight='bold')\n",
    "plt.show()"
   ]
  },
  {
   "cell_type": "markdown",
   "id": "3f38cae1",
   "metadata": {},
   "source": [
    "#### Analysis\n",
    "Most of the loan applicants are rented (47.9%) or Mortgage (44%). The applicants who own the house is (8%).\n"
   ]
  },
  {
   "cell_type": "markdown",
   "id": "2d59e1d1",
   "metadata": {},
   "source": [
    "#### Verification Status  (verification_status)\n"
   ]
  },
  {
   "cell_type": "code",
   "execution_count": 202,
   "id": "05f3ce05",
   "metadata": {},
   "outputs": [
    {
     "data": {
      "image/png": "[encoded data removed]",
      "text/plain": [
       "<Figure size 720x288 with 1 Axes>"
      ]
     },
     "metadata": {
      "needs_background": "light"
     },
     "output_type": "display_data"
    }
   ],
   "source": [
    "verification_status_data = loans_df.verification_status.value_counts(normalize=True).reset_index()\n",
    "plt.figure(figsize=(10,4))\n",
    "sns.barplot(x='index', y='verification_status', data=verification_status_data)\n",
    "plt.xlabel('Verification status')\n",
    "plt.ylabel('Frequency')\n",
    "plt.title('Univariate Analysis: Verification status distribution ',color='black',fontweight='bold')\n",
    "plt.show()"
   ]
  },
  {
   "cell_type": "markdown",
   "id": "49192b45",
   "metadata": {},
   "source": [
    "<b>Analysis</b>\n",
    "1. Around 57% of data points are verified\n",
    "2. 43% of data are not verified"
   ]
  },
  {
   "cell_type": "markdown",
   "id": "7238f3be",
   "metadata": {},
   "source": [
    "#### Loan Status  (loan_status)\n"
   ]
  },
  {
   "cell_type": "code",
   "execution_count": 203,
   "id": "7e47de55",
   "metadata": {},
   "outputs": [
    {
     "data": {
      "image/png": "[encoded data removed]",
      "text/plain": [
       "<Figure size 720x288 with 1 Axes>"
      ]
     },
     "metadata": {
      "needs_background": "light"
     },
     "output_type": "display_data"
    }
   ],
   "source": [
    "loan_status_data = loans_df.loan_status.value_counts(normalize=True).reset_index()\n",
    "plt.figure(figsize=(10,4))\n",
    "sns.barplot(x='index', y='loan_status', data=loan_status_data)\n",
    "plt.xlabel('Loan status')\n",
    "plt.ylabel('Frequency')\n",
    "plt.title('Univariate Analysis: Loan status  distribution ',color='black',fontweight='bold')\n",
    "plt.show()"
   ]
  },
  {
   "cell_type": "markdown",
   "id": "7588c039",
   "metadata": {},
   "source": [
    "<b>Analysis</b> \n",
    "1. Around 85% of loans are fully paid\n",
    "2. Only 15% of people are defaulters."
   ]
  },
  {
   "cell_type": "markdown",
   "id": "1715f7ff",
   "metadata": {},
   "source": [
    "#### Purpose  (purpose)"
   ]
  },
  {
   "cell_type": "code",
   "execution_count": 204,
   "id": "fc5474d0",
   "metadata": {},
   "outputs": [
    {
     "data": {
      "image/png": "[encoded data removed]",
      "text/plain": [
       "<Figure size 1728x576 with 1 Axes>"
      ]
     },
     "metadata": {
      "needs_background": "light"
     },
     "output_type": "display_data"
    }
   ],
   "source": [
    "purpose_data = loans_df.purpose.value_counts(normalize=True).reset_index()\n",
    "plt.figure(figsize=(24,8))\n",
    "sns.barplot(x='index', y='purpose', data=purpose_data)\n",
    "plt.yscale('log')\n",
    "plt.xlabel('Purpose')\n",
    "plt.ylabel('Frequency (Log scale)')\n",
    "plt.xticks(rotation=45)\n",
    "plt.title('Univariate Analysis: Purpose distribution ',color='black',fontweight='bold')\n",
    "plt.show()"
   ]
  },
  {
   "cell_type": "markdown",
   "id": "340dafdf",
   "metadata": {},
   "source": [
    "#### Analysis\n",
    "Most of the loan purpose is for debt consolidation(45%+) followed by credit card (10% +)"
   ]
  },
  {
   "cell_type": "markdown",
   "id": "a03d9b43",
   "metadata": {},
   "source": [
    "#### Address Stats  (addr_state)"
   ]
  },
  {
   "cell_type": "code",
   "execution_count": 205,
   "id": "79db2b91",
   "metadata": {},
   "outputs": [
    {
     "data": {
      "image/png": "[encoded data removed]",
      "text/plain": [
       "<Figure size 1728x720 with 1 Axes>"
      ]
     },
     "metadata": {
      "needs_background": "light"
     },
     "output_type": "display_data"
    }
   ],
   "source": [
    "addr_state_data = loans_df.addr_state.value_counts(normalize=True).reset_index()\n",
    "plt.figure(figsize=(24,10))\n",
    "sns.barplot(x='index', y='addr_state', data=addr_state_data)\n",
    "#plt.yscale('log')\n",
    "plt.xlabel('Address state')\n",
    "plt.ylabel('Frequency')\n",
    "plt.xticks(rotation=45)\n",
    "plt.title('Univariate Analysis: Address state distribution ',color='black',fontweight='bold')\n",
    "plt.show()"
   ]
  },
  {
   "cell_type": "markdown",
   "id": "055eae33",
   "metadata": {},
   "source": [
    "#### Analysis:\n",
    "\n",
    "Top 5 states are\n",
    "1. CA\n",
    "2. NY\n",
    "3. FL\n",
    "4. TX\n",
    "5. NJ"
   ]
  },
  {
   "cell_type": "markdown",
   "id": "2aa6b037",
   "metadata": {},
   "source": [
    "#### Issued Year (IssuedYear)"
   ]
  },
  {
   "cell_type": "code",
   "execution_count": 208,
   "id": "61b44605",
   "metadata": {},
   "outputs": [
    {
     "data": {
      "image/png": "[encoded data removed]",
      "text/plain": [
       "<Figure size 864x288 with 1 Axes>"
      ]
     },
     "metadata": {
      "needs_background": "light"
     },
     "output_type": "display_data"
    }
   ],
   "source": [
    "issue_d_year_data = loans_df.issue_d_year.value_counts(normalize=True).reset_index()\n",
    "plt.figure(figsize=(12,4))\n",
    "sns.barplot(x='index', y='issue_d_year', data=issue_d_year_data)\n",
    "plt.yscale('log')\n",
    "plt.xlabel('Issued year')\n",
    "plt.ylabel('Frequency')\n",
    "#plt.xticks(rotation=45)\n",
    "plt.title('Univariate Analysis: Issued year distribution ',color='black',fontweight='bold')\n",
    "\n",
    "plt.show()"
   ]
  },
  {
   "cell_type": "markdown",
   "id": "be9dc779",
   "metadata": {},
   "source": [
    "#### Analysis\n",
    "Every year the request is growing steadily"
   ]
  },
  {
   "cell_type": "markdown",
   "id": "4f6e5aaa",
   "metadata": {},
   "source": [
    "#### Issued Month (IssuedYear)\n"
   ]
  },
  {
   "cell_type": "code",
   "execution_count": 209,
   "id": "78746410",
   "metadata": {},
   "outputs": [
    {
     "data": {
      "image/png": "[encoded data removed]",
      "text/plain": [
       "<Figure size 864x288 with 1 Axes>"
      ]
     },
     "metadata": {
      "needs_background": "light"
     },
     "output_type": "display_data"
    }
   ],
   "source": [
    "issue_d_mnth_data = loans_df.issue_d_month.value_counts(normalize=True).reset_index()\n",
    "plt.figure(figsize=(12,4))\n",
    "sns.barplot(x='index', y='issue_d_month', data=issue_d_mnth_data)\n",
    "plt.xlabel('Issued Month')\n",
    "plt.ylabel('Frequency')\n",
    "#plt.xticks(rotation=45)\n",
    "plt.title('Univariate Analysis: Issued month distribution ',color='black',fontweight='bold')\n",
    "plt.show()"
   ]
  },
  {
   "cell_type": "code",
   "execution_count": null,
   "id": "994b6331",
   "metadata": {},
   "outputs": [],
   "source": []
  }
 ],
 "metadata": {
  "kernelspec": {
   "display_name": "Python 3",
   "language": "python",
   "name": "python3"
  },
  "language_info": {
   "codemirror_mode": {
    "name": "ipython",
    "version": 3
   },
   "file_extension": ".py",
   "mimetype": "text/x-python",
   "name": "python",
   "nbconvert_exporter": "python",
   "pygments_lexer": "ipython3",
   "version": "3.8.10"
  }
 },
 "nbformat": 4,
 "nbformat_minor": 5
}
